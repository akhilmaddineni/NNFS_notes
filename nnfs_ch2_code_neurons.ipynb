{
 "cells": [
  {
   "cell_type": "markdown",
   "metadata": {},
   "source": [
    "# Chapter 2 : Coding First Neurons "
   ]
  },
  {
   "cell_type": "markdown",
   "metadata": {},
   "source": [
    "#### Coding a single neuron \n",
    "\n",
    "3 inputs to the neuron and one output , and each input needs a weight and a common bias to the neuron . Remember the linear equation y=mx+c"
   ]
  },
  {
   "cell_type": "code",
   "execution_count": 1,
   "metadata": {},
   "outputs": [
    {
     "name": "stdout",
     "output_type": "stream",
     "text": [
      "2.3\n"
     ]
    }
   ],
   "source": [
    "#randomly choosing some inputs and biases . \n",
    "\n",
    "inputs = [ 1 , 2 , 3 ]\n",
    "weights = [ 0.2 , 0.8 , - 0.5 ]\n",
    "bias = 2\n",
    "\n",
    "output = (inputs[0]*weights[0] + inputs[1]*weights[1] + inputs[2]*weights[2] \n",
    "          + bias)\n",
    "\n",
    "print (output)\n"
   ]
  },
  {
   "cell_type": "markdown",
   "metadata": {},
   "source": [
    "#### Layer of neurons \n",
    "\n",
    "layers are group of neurons . each neuron in a layer takes the exact same input . But each neuron can contain own set of weights and biases and thus producing a unique output . \n",
    "\n",
    "For a 4 input and 3 layered network . Code can be visualized as follows "
   ]
  },
  {
   "cell_type": "code",
   "execution_count": 2,
   "metadata": {},
   "outputs": [
    {
     "name": "stdout",
     "output_type": "stream",
     "text": [
      "[4.8, 1.21, 2.385]\n"
     ]
    }
   ],
   "source": [
    "inputs = [ 1 , 2 , 3 , 2.5 ]\n",
    "\n",
    "weights1 = [ 0.2 , 0.8 , - 0.5 , 1 ]\n",
    "weights2 = [ 0.5 , - 0.91 , 0.26 , - 0.5 ]\n",
    "weights3 = [ - 0.26 , - 0.27 , 0.17 , 0.87 ]\n",
    "\n",
    "bias1 = 2\n",
    "bias2 = 3\n",
    "bias3 = 0.5\n",
    "\n",
    "outputs = [\n",
    "# Neuron 1:\n",
    "inputs[ 0 ] * weights1[ 0 ] +\n",
    "inputs[ 1 ] * weights1[ 1 ] +\n",
    "inputs[ 2 ] * weights1[ 2 ] +\n",
    "inputs[ 3 ] * weights1[ 3 ] + bias1,\n",
    "# Neuron 2:\n",
    "inputs[ 0 ] * weights2[ 0 ] +\n",
    "inputs[ 1 ] * weights2[ 1 ] +\n",
    "inputs[ 2 ] * weights2[ 2 ] +\n",
    "inputs[ 3 ] * weights2[ 3 ] + bias2,\n",
    "# Neuron 3:\n",
    "inputs[ 0 ] * weights3[ 0 ] +\n",
    "inputs[ 1 ] * weights3[ 1 ] +\n",
    "inputs[ 2 ] * weights3[ 2 ] +\n",
    "inputs[ 3 ] * weights3[ 3 ] + bias3]\n",
    "\n",
    "print (outputs)"
   ]
  },
  {
   "cell_type": "markdown",
   "metadata": {},
   "source": [
    "This is just a single layer , but for multiple layered networks it will get super hard to code something like above . We can use looops to make life little easier . "
   ]
  },
  {
   "cell_type": "code",
   "execution_count": 4,
   "metadata": {},
   "outputs": [
    {
     "name": "stdout",
     "output_type": "stream",
     "text": [
      "[4.8, 1.21, 2.385]\n"
     ]
    }
   ],
   "source": [
    "inputs = [ 1 , 2 , 3 , 2.5 ]\n",
    "weights = [ [ 0.2 , 0.8 , - 0.5 , 1 ],\n",
    "            [ 0.5 , - 0.91 , 0.26 , - 0.5 ],\n",
    "            [ - 0.26 , - 0.27 , 0.17 , 0.87 ]]\n",
    "biases = [ 2 , 3 , 0.5 ]\n",
    "\n",
    "layer_outputs = [] # to store the outputs \n",
    "\n",
    "# python tip : The zip () function lets us iterate over multiple iterables \n",
    "# (lists in this case) simultaneously\n",
    "for neuron_wts , neuron_bias in zip(weights,biases): \n",
    "    \n",
    "    neuron_output = 0 \n",
    "    \n",
    "    for input_var , wts in zip(inputs,neuron_wts) : \n",
    "        \n",
    "        neuron_output += input_var*wts\n",
    "    \n",
    "    neuron_output+=neuron_bias\n",
    "    \n",
    "    layer_outputs.append(neuron_output)\n",
    "\n",
    "print(layer_outputs)"
   ]
  },
  {
   "cell_type": "markdown",
   "metadata": {},
   "source": [
    "#### Tensors, Arrays and Vectors\n",
    "\n",
    "Tensors can be thought of as close relative to arrays . (not homologus , Dimensions can be different)\n",
    "\n",
    "A definiton : A tensor object is an object that can be represented as an array."
   ]
  },
  {
   "attachments": {
    "image.png": {
     "image/png": "[encoded data removed]"
    }
   },
   "cell_type": "markdown",
   "metadata": {},
   "source": [
    "#### Dot Product and Vector Addition\n",
    "\n",
    "Dot product : \n",
    "![image.png](attachment:image.png)\n"
   ]
  },
  {
   "attachments": {
    "image.png": {
     "image/png": "[encoded data removed]"
    }
   },
   "cell_type": "markdown",
   "metadata": {},
   "source": [
    "Vector Addition : \n",
    "![image.png](attachment:image.png)"
   ]
  },
  {
   "cell_type": "markdown",
   "metadata": {},
   "source": [
    "#### A Single Neuron with NumPy\n",
    "\n",
    "We have coded all the multiplications earlier mannually in the code , lets make it easy with numpy dot product . "
   ]
  },
  {
   "cell_type": "code",
   "execution_count": 5,
   "metadata": {},
   "outputs": [
    {
     "name": "stdout",
     "output_type": "stream",
     "text": [
      "4.8\n"
     ]
    }
   ],
   "source": [
    "import numpy as np\n",
    "inputs = [ 1.0 , 2.0 , 3.0 , 2.5 ]\n",
    "weights = [ 0.2 , 0.8 , - 0.5 , 1.0 ]\n",
    "bias = 2.0\n",
    "outputs = np.dot(weights, inputs) + bias\n",
    "print (outputs)"
   ]
  },
  {
   "cell_type": "markdown",
   "metadata": {},
   "source": [
    "#### A Layer of Neurons with NumPy \n",
    "\n",
    "same thing we did earlier but with numpy . "
   ]
  },
  {
   "cell_type": "code",
   "execution_count": 8,
   "metadata": {},
   "outputs": [
    {
     "name": "stdout",
     "output_type": "stream",
     "text": [
      "[4.8   1.21  2.385]\n"
     ]
    }
   ],
   "source": [
    "inputs = [ 1.0 , 2.0 , 3.0 , 2.5 ]\n",
    "weights = [[ 0.2 , 0.8 , - 0.5 , 1 ],\n",
    "[ 0.5 , - 0.91 , 0.26 , - 0.5 ],\n",
    "[ - 0.26 , - 0.27 , 0.17 , 0.87 ]]\n",
    "biases = [ 2.0 , 3.0 , 0.5 ]\n",
    "\n",
    "#see how the numpy is handling the dot product here \n",
    "#whatever comes first decides the output shape , keep it in mind \n",
    "layer_outputs = np.dot(weights, inputs) + biases\n",
    "print (layer_outputs)"
   ]
  },
  {
   "cell_type": "markdown",
   "metadata": {},
   "source": [
    "#### A Batch of Data \n",
    "\n",
    "until now we are dealing with only one input , now tend to receive data input in batches . \n",
    "\n",
    "In general neural nets take many samples at a time to processing due to the following reasons . \n",
    "1. it’s faster to train in batches in parallel processing\n",
    "2. Batches help with generalization during training . (check def in chapter 1)\n",
    "\n",
    "\n",
    "book had a better description than i can ask , here it is :\n",
    "\n",
    "If you fit (perform a step of a training process) on one sample at a time, you’re highly likely to keep fitting to that individual sample, rather than slowly producing general tweaks to weights and biases that fit the entire dataset. Fitting or training in batches gives you a higher chance of making more meaningful changes to weights and biases.\n",
    "\n",
    "Here is damn good animation showing how batch size effects: https://nnfs.io/vyu\n"
   ]
  },
  {
   "cell_type": "markdown",
   "metadata": {},
   "source": [
    "#### Matrix product \n",
    "\n",
    "rows and colums dot product , not the num of rows of matrix 1 should be equal to num of cols of matrix 2 "
   ]
  },
  {
   "attachments": {
    "image.png": {
     "image/png": "[encoded data removed]"
    }
   },
   "cell_type": "markdown",
   "metadata": {},
   "source": [
    "#### Transposition for the Matrix Product\n",
    "![image.png](attachment:image.png)"
   ]
  },
  {
   "cell_type": "code",
   "execution_count": 9,
   "metadata": {},
   "outputs": [
    {
     "data": {
      "text/plain": [
       "array([[20]])"
      ]
     },
     "execution_count": 9,
     "metadata": {},
     "output_type": "execute_result"
    }
   ],
   "source": [
    "a = [ 1 , 2 , 3 ]\n",
    "b = [ 2 , 3 , 4 ]\n",
    "a = np.array([a])\n",
    "b = np.array([b]).T\n",
    "np.dot(a, b)"
   ]
  },
  {
   "cell_type": "markdown",
   "metadata": {},
   "source": [
    "#### A Layer of Neurons & Batch of Data w/ NumPy\n",
    "\n",
    "now that we have a batch of inputs and layer of neurons . its time for matrix multiplication to get the output of a layer .\n",
    "\n",
    "we multiply the inputs batch and weights transposed to get the data needed . "
   ]
  },
  {
   "cell_type": "code",
   "execution_count": 14,
   "metadata": {},
   "outputs": [
    {
     "name": "stdout",
     "output_type": "stream",
     "text": [
      "[[ 4.8    1.21   2.385]\n",
      " [ 8.9   -1.81   0.2  ]\n",
      " [ 1.41   1.051  0.026]]\n"
     ]
    }
   ],
   "source": [
    "inputs = [[ 1.0 , 2.0 , 3.0 , 2.5 ] ,\n",
    "         [2.0, 5.0, -1.0, 2.0],\n",
    "         [-1.5, 2.7, 3.3,-0.8]]\n",
    "weights = [[ 0.2 , 0.8 , - 0.5 , 1 ],\n",
    "[ 0.5 , - 0.91 , 0.26 , - 0.5 ],\n",
    "[ - 0.26 , - 0.27 , 0.17 , 0.87 ]]\n",
    "biases = [ 2.0 , 3.0 , 0.5 ]\n",
    "\n",
    "outputs = np.dot(inputs , np.array(weights).T) +biases #y =mx+c\n",
    "\n",
    "print(outputs)"
   ]
  },
  {
   "cell_type": "code",
   "execution_count": null,
   "metadata": {},
   "outputs": [],
   "source": []
  }
 ],
 "metadata": {
  "kernelspec": {
   "display_name": "Python 3",
   "language": "python",
   "name": "python3"
  },
  "language_info": {
   "codemirror_mode": {
    "name": "ipython",
    "version": 3
   },
   "file_extension": ".py",
   "mimetype": "text/x-python",
   "name": "python",
   "nbconvert_exporter": "python",
   "pygments_lexer": "ipython3",
   "version": "3.7.3"
  }
 },
 "nbformat": 4,
 "nbformat_minor": 2
}
